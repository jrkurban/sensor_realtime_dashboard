{
 "cells": [
  {
   "cell_type": "code",
   "execution_count": 2,
   "id": "2f69e792-78be-4d01-9b96-836ed67c02ba",
   "metadata": {
    "tags": []
   },
   "outputs": [],
   "source": [
    "from pyspark.sql import SparkSession, functions as F\n",
    "from pyspark.sql.types import StructType, StructField, DoubleType, StringType, IntegerType, DataType, ArrayType, FloatType, LongType, TimestampType"
   ]
  },
  {
   "cell_type": "code",
   "execution_count": 3,
   "id": "352db258-30df-42b8-94ea-c73968def292",
   "metadata": {
    "tags": []
   },
   "outputs": [
    {
     "name": "stderr",
     "output_type": "stream",
     "text": [
      "WARNING: An illegal reflective access operation has occurred\n",
      "WARNING: Illegal reflective access by org.apache.spark.unsafe.Platform (file:/opt/manual/spark-3.1.1-bin-hadoop3.2/jars/spark-unsafe_2.12-3.1.1.jar) to constructor java.nio.DirectByteBuffer(long,int)\n",
      "WARNING: Please consider reporting this to the maintainers of org.apache.spark.unsafe.Platform\n",
      "WARNING: Use --illegal-access=warn to enable warnings of further illegal reflective access operations\n",
      "WARNING: All illegal access operations will be denied in a future release\n",
      "2023-04-20 12:16:17,111 WARN util.NativeCodeLoader: Unable to load native-hadoop library for your platform... using builtin-java classes where applicable\n",
      "Setting default log level to \"WARN\".\n",
      "To adjust logging level use sc.setLogLevel(newLevel). For SparkR, use setLogLevel(newLevel).\n"
     ]
    }
   ],
   "source": [
    "spark = SparkSession.builder \\\n",
    ".master(\"local[2]\") \\\n",
    ".appName(\"Define Custom Schema\") \\\n",
    ".getOrCreate()"
   ]
  },
  {
   "cell_type": "code",
   "execution_count": 1,
   "id": "91fd085a-292a-4a56-88d1-beefc42bd8ed",
   "metadata": {},
   "outputs": [
    {
     "name": "stdout",
     "output_type": "stream",
     "text": [
      "--2023-04-20 11:42:07--  https://github.com/erkansirin78/datasets/raw/master/sensors_instrumented_in_an_office_building_dataset.zip\n",
      "Resolving github.com (github.com)... 140.82.121.4\n",
      "Connecting to github.com (github.com)|140.82.121.4|:443... connected.\n",
      "HTTP request sent, awaiting response... 302 Found\n",
      "Location: https://raw.githubusercontent.com/erkansirin78/datasets/master/sensors_instrumented_in_an_office_building_dataset.zip [following]\n",
      "--2023-04-20 11:42:07--  https://raw.githubusercontent.com/erkansirin78/datasets/master/sensors_instrumented_in_an_office_building_dataset.zip\n",
      "Resolving raw.githubusercontent.com (raw.githubusercontent.com)... 185.199.108.133, 185.199.111.133, 185.199.110.133, ...\n",
      "Connecting to raw.githubusercontent.com (raw.githubusercontent.com)|185.199.108.133|:443... connected.\n",
      "HTTP request sent, awaiting response... 200 OK\n",
      "Length: 78299066 (75M) [application/zip]\n",
      "Saving to: ‘/home/train/datasets/sensors_instrumented_in_an_office_building_dataset.zip’\n",
      "\n",
      "100%[======================================>] 78,299,066   332KB/s   in 3m 36s \n",
      "\n",
      "2023-04-20 11:45:46 (354 KB/s) - ‘/home/train/datasets/sensors_instrumented_in_an_office_building_dataset.zip’ saved [78299066/78299066]\n",
      "\n"
     ]
    }
   ],
   "source": [
    "!wget -P /home/train/datasets/ \\\n",
    "https://github.com/erkansirin78/datasets/raw/master/sensors_instrumented_in_an_office_building_dataset.zip"
   ]
  },
  {
   "cell_type": "code",
   "execution_count": 4,
   "id": "cf859b21-d887-4c10-afca-393955529caf",
   "metadata": {},
   "outputs": [],
   "source": [
    "programmatical_schema = StructType([\n",
    "    StructField(\"ts_min_bignt\",LongType(),True),\n",
    "    StructField(\"value\",FloatType(),True),\n",
    "    StructField(\"file_name\",StringType(),True),\n",
    "    StructField(\"room\",StringType(),True),\n",
    "    StructField(\"file_path\",StringType(),True),\n",
    "    StructField(\"file_name_type\",StringType(),True),\n",
    "    StructField(\"event_ts_min\",TimestampType(),True)\n",
    "])    "
   ]
  },
  {
   "cell_type": "code",
   "execution_count": 5,
   "id": "d176bb27-2f2d-4ff0-bc55-dea23a3989f7",
   "metadata": {
    "tags": []
   },
   "outputs": [
    {
     "name": "stderr",
     "output_type": "stream",
     "text": [
      "                                                                                \r"
     ]
    }
   ],
   "source": [
    "df = spark.read \\\n",
    ".option(\"sep\",\",\") \\\n",
    ".schema(programmatical_schema) \\\n",
    ".csv(\"file:///home/train/datasets/KETI/*\") \\\n",
    ".withColumn(\"file_path\",F.input_file_name()) \\\n",
    ".withColumn(\"room\",F.element_at(F.reverse(F.split(F.col(\"file_path\"),\"/\")),2)) \\\n",
    ".withColumn(\"file_name\",F.element_at(F.reverse(F.split(F.col(\"file_path\"),\"/\")),1)) \\\n",
    ".withColumn('file_name_type', F.split(F.col(\"file_name\"), \"\\\\.\").getItem(0)) \\\n",
    ".filter(\"file_name_type not in ('README')\") \\\n",
    ".withColumn(\"event_ts_min\",F.from_unixtime(F.col(\"ts_min_bignt\")))"
   ]
  },
  {
   "cell_type": "code",
   "execution_count": 6,
   "id": "581e6b67-5bf3-4a5d-a9f0-b636cac4bd96",
   "metadata": {
    "tags": []
   },
   "outputs": [
    {
     "data": {
      "text/html": [
       "<div>\n",
       "<style scoped>\n",
       "    .dataframe tbody tr th:only-of-type {\n",
       "        vertical-align: middle;\n",
       "    }\n",
       "\n",
       "    .dataframe tbody tr th {\n",
       "        vertical-align: top;\n",
       "    }\n",
       "\n",
       "    .dataframe thead th {\n",
       "        text-align: right;\n",
       "    }\n",
       "</style>\n",
       "<table border=\"1\" class=\"dataframe\">\n",
       "  <thead>\n",
       "    <tr style=\"text-align: right;\">\n",
       "      <th></th>\n",
       "      <th>ts_min_bignt</th>\n",
       "      <th>value</th>\n",
       "      <th>file_name</th>\n",
       "      <th>room</th>\n",
       "      <th>file_path</th>\n",
       "      <th>file_name_type</th>\n",
       "      <th>event_ts_min</th>\n",
       "    </tr>\n",
       "  </thead>\n",
       "  <tbody>\n",
       "    <tr>\n",
       "      <th>0</th>\n",
       "      <td>1377299103</td>\n",
       "      <td>2287.0</td>\n",
       "      <td>light.csv</td>\n",
       "      <td>668</td>\n",
       "      <td>file:/home/train/datasets/KETI/668/light.csv</td>\n",
       "      <td>light</td>\n",
       "      <td>2013-08-24 02:05:03</td>\n",
       "    </tr>\n",
       "    <tr>\n",
       "      <th>1</th>\n",
       "      <td>1377299105</td>\n",
       "      <td>1977.0</td>\n",
       "      <td>light.csv</td>\n",
       "      <td>668</td>\n",
       "      <td>file:/home/train/datasets/KETI/668/light.csv</td>\n",
       "      <td>light</td>\n",
       "      <td>2013-08-24 02:05:05</td>\n",
       "    </tr>\n",
       "    <tr>\n",
       "      <th>2</th>\n",
       "      <td>1377299126</td>\n",
       "      <td>2208.0</td>\n",
       "      <td>light.csv</td>\n",
       "      <td>668</td>\n",
       "      <td>file:/home/train/datasets/KETI/668/light.csv</td>\n",
       "      <td>light</td>\n",
       "      <td>2013-08-24 02:05:26</td>\n",
       "    </tr>\n",
       "    <tr>\n",
       "      <th>3</th>\n",
       "      <td>1377299130</td>\n",
       "      <td>2267.0</td>\n",
       "      <td>light.csv</td>\n",
       "      <td>668</td>\n",
       "      <td>file:/home/train/datasets/KETI/668/light.csv</td>\n",
       "      <td>light</td>\n",
       "      <td>2013-08-24 02:05:30</td>\n",
       "    </tr>\n",
       "    <tr>\n",
       "      <th>4</th>\n",
       "      <td>1377299133</td>\n",
       "      <td>2097.0</td>\n",
       "      <td>light.csv</td>\n",
       "      <td>668</td>\n",
       "      <td>file:/home/train/datasets/KETI/668/light.csv</td>\n",
       "      <td>light</td>\n",
       "      <td>2013-08-24 02:05:33</td>\n",
       "    </tr>\n",
       "    <tr>\n",
       "      <th>5</th>\n",
       "      <td>1377299138</td>\n",
       "      <td>2111.0</td>\n",
       "      <td>light.csv</td>\n",
       "      <td>668</td>\n",
       "      <td>file:/home/train/datasets/KETI/668/light.csv</td>\n",
       "      <td>light</td>\n",
       "      <td>2013-08-24 02:05:38</td>\n",
       "    </tr>\n",
       "    <tr>\n",
       "      <th>6</th>\n",
       "      <td>1377299143</td>\n",
       "      <td>2257.0</td>\n",
       "      <td>light.csv</td>\n",
       "      <td>668</td>\n",
       "      <td>file:/home/train/datasets/KETI/668/light.csv</td>\n",
       "      <td>light</td>\n",
       "      <td>2013-08-24 02:05:43</td>\n",
       "    </tr>\n",
       "    <tr>\n",
       "      <th>7</th>\n",
       "      <td>1377299148</td>\n",
       "      <td>2200.0</td>\n",
       "      <td>light.csv</td>\n",
       "      <td>668</td>\n",
       "      <td>file:/home/train/datasets/KETI/668/light.csv</td>\n",
       "      <td>light</td>\n",
       "      <td>2013-08-24 02:05:48</td>\n",
       "    </tr>\n",
       "    <tr>\n",
       "      <th>8</th>\n",
       "      <td>1377299153</td>\n",
       "      <td>2164.0</td>\n",
       "      <td>light.csv</td>\n",
       "      <td>668</td>\n",
       "      <td>file:/home/train/datasets/KETI/668/light.csv</td>\n",
       "      <td>light</td>\n",
       "      <td>2013-08-24 02:05:53</td>\n",
       "    </tr>\n",
       "    <tr>\n",
       "      <th>9</th>\n",
       "      <td>1377299158</td>\n",
       "      <td>2183.0</td>\n",
       "      <td>light.csv</td>\n",
       "      <td>668</td>\n",
       "      <td>file:/home/train/datasets/KETI/668/light.csv</td>\n",
       "      <td>light</td>\n",
       "      <td>2013-08-24 02:05:58</td>\n",
       "    </tr>\n",
       "  </tbody>\n",
       "</table>\n",
       "</div>"
      ],
      "text/plain": [
       "   ts_min_bignt   value  file_name room  \\\n",
       "0    1377299103  2287.0  light.csv  668   \n",
       "1    1377299105  1977.0  light.csv  668   \n",
       "2    1377299126  2208.0  light.csv  668   \n",
       "3    1377299130  2267.0  light.csv  668   \n",
       "4    1377299133  2097.0  light.csv  668   \n",
       "5    1377299138  2111.0  light.csv  668   \n",
       "6    1377299143  2257.0  light.csv  668   \n",
       "7    1377299148  2200.0  light.csv  668   \n",
       "8    1377299153  2164.0  light.csv  668   \n",
       "9    1377299158  2183.0  light.csv  668   \n",
       "\n",
       "                                      file_path file_name_type  \\\n",
       "0  file:/home/train/datasets/KETI/668/light.csv          light   \n",
       "1  file:/home/train/datasets/KETI/668/light.csv          light   \n",
       "2  file:/home/train/datasets/KETI/668/light.csv          light   \n",
       "3  file:/home/train/datasets/KETI/668/light.csv          light   \n",
       "4  file:/home/train/datasets/KETI/668/light.csv          light   \n",
       "5  file:/home/train/datasets/KETI/668/light.csv          light   \n",
       "6  file:/home/train/datasets/KETI/668/light.csv          light   \n",
       "7  file:/home/train/datasets/KETI/668/light.csv          light   \n",
       "8  file:/home/train/datasets/KETI/668/light.csv          light   \n",
       "9  file:/home/train/datasets/KETI/668/light.csv          light   \n",
       "\n",
       "          event_ts_min  \n",
       "0  2013-08-24 02:05:03  \n",
       "1  2013-08-24 02:05:05  \n",
       "2  2013-08-24 02:05:26  \n",
       "3  2013-08-24 02:05:30  \n",
       "4  2013-08-24 02:05:33  \n",
       "5  2013-08-24 02:05:38  \n",
       "6  2013-08-24 02:05:43  \n",
       "7  2013-08-24 02:05:48  \n",
       "8  2013-08-24 02:05:53  \n",
       "9  2013-08-24 02:05:58  "
      ]
     },
     "execution_count": 6,
     "metadata": {},
     "output_type": "execute_result"
    }
   ],
   "source": [
    "df.limit(10).toPandas()"
   ]
  },
  {
   "cell_type": "code",
   "execution_count": 7,
   "id": "cfc34227-d170-41bd-a5de-157bb54c8315",
   "metadata": {
    "tags": []
   },
   "outputs": [
    {
     "name": "stderr",
     "output_type": "stream",
     "text": [
      "                                                                                \r"
     ]
    },
    {
     "data": {
      "text/plain": [
       "29882394"
      ]
     },
     "execution_count": 7,
     "metadata": {},
     "output_type": "execute_result"
    }
   ],
   "source": [
    "df.count()"
   ]
  },
  {
   "cell_type": "code",
   "execution_count": 8,
   "id": "4825af5a-24d6-4d0c-a0a1-b67dc14d3b73",
   "metadata": {
    "tags": []
   },
   "outputs": [
    {
     "name": "stderr",
     "output_type": "stream",
     "text": [
      "                                                                                \r"
     ]
    },
    {
     "data": {
      "text/html": [
       "<div>\n",
       "<style scoped>\n",
       "    .dataframe tbody tr th:only-of-type {\n",
       "        vertical-align: middle;\n",
       "    }\n",
       "\n",
       "    .dataframe tbody tr th {\n",
       "        vertical-align: top;\n",
       "    }\n",
       "\n",
       "    .dataframe thead th {\n",
       "        text-align: right;\n",
       "    }\n",
       "</style>\n",
       "<table border=\"1\" class=\"dataframe\">\n",
       "  <thead>\n",
       "    <tr style=\"text-align: right;\">\n",
       "      <th></th>\n",
       "      <th>max(event_ts_min)</th>\n",
       "      <th>min(event_ts_min)</th>\n",
       "    </tr>\n",
       "  </thead>\n",
       "  <tbody>\n",
       "    <tr>\n",
       "      <th>0</th>\n",
       "      <td>2013-09-01 09:58:59</td>\n",
       "      <td>2013-08-23 18:00:00</td>\n",
       "    </tr>\n",
       "  </tbody>\n",
       "</table>\n",
       "</div>"
      ],
      "text/plain": [
       "     max(event_ts_min)    min(event_ts_min)\n",
       "0  2013-09-01 09:58:59  2013-08-23 18:00:00"
      ]
     },
     "execution_count": 8,
     "metadata": {},
     "output_type": "execute_result"
    }
   ],
   "source": [
    "df.selectExpr(\"MAX(event_ts_min)\",\"MIN(event_ts_min)\").limit(5).toPandas()"
   ]
  },
  {
   "cell_type": "code",
   "execution_count": 9,
   "id": "67cec988-f065-408b-a93c-3eabb1224882",
   "metadata": {
    "tags": []
   },
   "outputs": [],
   "source": [
    "df_test1 = df.where(\"event_ts_min between to_date('2013-09-01','yyyy-MM-dd') and to_date('2013-09-02','yyyy-MM-dd')\")"
   ]
  },
  {
   "cell_type": "code",
   "execution_count": 10,
   "id": "d92e6f7a-dcb1-49ee-9dfa-4a96ac0625e0",
   "metadata": {
    "tags": []
   },
   "outputs": [
    {
     "name": "stderr",
     "output_type": "stream",
     "text": [
      "                                                                                \r"
     ]
    },
    {
     "data": {
      "text/html": [
       "<div>\n",
       "<style scoped>\n",
       "    .dataframe tbody tr th:only-of-type {\n",
       "        vertical-align: middle;\n",
       "    }\n",
       "\n",
       "    .dataframe tbody tr th {\n",
       "        vertical-align: top;\n",
       "    }\n",
       "\n",
       "    .dataframe thead th {\n",
       "        text-align: right;\n",
       "    }\n",
       "</style>\n",
       "<table border=\"1\" class=\"dataframe\">\n",
       "  <thead>\n",
       "    <tr style=\"text-align: right;\">\n",
       "      <th></th>\n",
       "      <th>ts_min_bignt</th>\n",
       "      <th>value</th>\n",
       "      <th>file_name</th>\n",
       "      <th>room</th>\n",
       "      <th>file_path</th>\n",
       "      <th>file_name_type</th>\n",
       "      <th>event_ts_min</th>\n",
       "    </tr>\n",
       "  </thead>\n",
       "  <tbody>\n",
       "    <tr>\n",
       "      <th>0</th>\n",
       "      <td>1378001479</td>\n",
       "      <td>1950.0</td>\n",
       "      <td>light.csv</td>\n",
       "      <td>668</td>\n",
       "      <td>file:/home/train/datasets/KETI/668/light.csv</td>\n",
       "      <td>light</td>\n",
       "      <td>2013-09-01 05:11:19</td>\n",
       "    </tr>\n",
       "    <tr>\n",
       "      <th>1</th>\n",
       "      <td>1378001504</td>\n",
       "      <td>2149.0</td>\n",
       "      <td>light.csv</td>\n",
       "      <td>668</td>\n",
       "      <td>file:/home/train/datasets/KETI/668/light.csv</td>\n",
       "      <td>light</td>\n",
       "      <td>2013-09-01 05:11:44</td>\n",
       "    </tr>\n",
       "    <tr>\n",
       "      <th>2</th>\n",
       "      <td>1378001589</td>\n",
       "      <td>2141.0</td>\n",
       "      <td>light.csv</td>\n",
       "      <td>668</td>\n",
       "      <td>file:/home/train/datasets/KETI/668/light.csv</td>\n",
       "      <td>light</td>\n",
       "      <td>2013-09-01 05:13:09</td>\n",
       "    </tr>\n",
       "    <tr>\n",
       "      <th>3</th>\n",
       "      <td>1378001724</td>\n",
       "      <td>2300.0</td>\n",
       "      <td>light.csv</td>\n",
       "      <td>668</td>\n",
       "      <td>file:/home/train/datasets/KETI/668/light.csv</td>\n",
       "      <td>light</td>\n",
       "      <td>2013-09-01 05:15:24</td>\n",
       "    </tr>\n",
       "    <tr>\n",
       "      <th>4</th>\n",
       "      <td>1378001769</td>\n",
       "      <td>2050.0</td>\n",
       "      <td>light.csv</td>\n",
       "      <td>668</td>\n",
       "      <td>file:/home/train/datasets/KETI/668/light.csv</td>\n",
       "      <td>light</td>\n",
       "      <td>2013-09-01 05:16:09</td>\n",
       "    </tr>\n",
       "  </tbody>\n",
       "</table>\n",
       "</div>"
      ],
      "text/plain": [
       "   ts_min_bignt   value  file_name room  \\\n",
       "0    1378001479  1950.0  light.csv  668   \n",
       "1    1378001504  2149.0  light.csv  668   \n",
       "2    1378001589  2141.0  light.csv  668   \n",
       "3    1378001724  2300.0  light.csv  668   \n",
       "4    1378001769  2050.0  light.csv  668   \n",
       "\n",
       "                                      file_path file_name_type  \\\n",
       "0  file:/home/train/datasets/KETI/668/light.csv          light   \n",
       "1  file:/home/train/datasets/KETI/668/light.csv          light   \n",
       "2  file:/home/train/datasets/KETI/668/light.csv          light   \n",
       "3  file:/home/train/datasets/KETI/668/light.csv          light   \n",
       "4  file:/home/train/datasets/KETI/668/light.csv          light   \n",
       "\n",
       "          event_ts_min  \n",
       "0  2013-09-01 05:11:19  \n",
       "1  2013-09-01 05:11:44  \n",
       "2  2013-09-01 05:13:09  \n",
       "3  2013-09-01 05:15:24  \n",
       "4  2013-09-01 05:16:09  "
      ]
     },
     "execution_count": 10,
     "metadata": {},
     "output_type": "execute_result"
    }
   ],
   "source": [
    "df_test1.limit(5).toPandas()"
   ]
  },
  {
   "cell_type": "code",
   "execution_count": 18,
   "id": "f820d454-25c1-41c5-b2de-b3f1913b77f1",
   "metadata": {
    "tags": []
   },
   "outputs": [],
   "source": [
    "df2 = df.groupBy(\"file_name_type\",\"room\",F.window(\"event_ts_min\",\"1 minutes\")) \\\n",
    ".agg(F.avg(\"value\").alias(\"value\")) \\\n",
    ".select(F.to_timestamp(F.col(\"window.start\"), 'MM/dd/yyyy HH:mm:ss a').alias(\"event_ts_min\"),F.unix_timestamp(F.col(\"window.start\"), 'MM/dd/yyyy hh:mm:ss a').alias(\"ts_min_bignt\"),F.col(\"file_name_type\"),F.col(\"room\"),F.col(\"value\"))"
   ]
  },
  {
   "cell_type": "code",
   "execution_count": 19,
   "id": "4605b0d5-cd8a-4a06-a257-3932667c5841",
   "metadata": {
    "tags": []
   },
   "outputs": [
    {
     "name": "stderr",
     "output_type": "stream",
     "text": [
      "                                                                                \r"
     ]
    },
    {
     "data": {
      "text/html": [
       "<div>\n",
       "<style scoped>\n",
       "    .dataframe tbody tr th:only-of-type {\n",
       "        vertical-align: middle;\n",
       "    }\n",
       "\n",
       "    .dataframe tbody tr th {\n",
       "        vertical-align: top;\n",
       "    }\n",
       "\n",
       "    .dataframe thead th {\n",
       "        text-align: right;\n",
       "    }\n",
       "</style>\n",
       "<table border=\"1\" class=\"dataframe\">\n",
       "  <thead>\n",
       "    <tr style=\"text-align: right;\">\n",
       "      <th></th>\n",
       "      <th>event_ts_min</th>\n",
       "      <th>ts_min_bignt</th>\n",
       "      <th>file_name_type</th>\n",
       "      <th>room</th>\n",
       "      <th>value</th>\n",
       "    </tr>\n",
       "  </thead>\n",
       "  <tbody>\n",
       "    <tr>\n",
       "      <th>0</th>\n",
       "      <td>2013-08-24 07:23:00</td>\n",
       "      <td>1377318180</td>\n",
       "      <td>light</td>\n",
       "      <td>668</td>\n",
       "      <td>2137.916667</td>\n",
       "    </tr>\n",
       "    <tr>\n",
       "      <th>1</th>\n",
       "      <td>2013-08-24 07:28:00</td>\n",
       "      <td>1377318480</td>\n",
       "      <td>light</td>\n",
       "      <td>668</td>\n",
       "      <td>2212.416667</td>\n",
       "    </tr>\n",
       "    <tr>\n",
       "      <th>2</th>\n",
       "      <td>2013-08-24 08:17:00</td>\n",
       "      <td>1377321420</td>\n",
       "      <td>light</td>\n",
       "      <td>668</td>\n",
       "      <td>2135.333333</td>\n",
       "    </tr>\n",
       "    <tr>\n",
       "      <th>3</th>\n",
       "      <td>2013-08-24 12:11:00</td>\n",
       "      <td>1377335460</td>\n",
       "      <td>light</td>\n",
       "      <td>668</td>\n",
       "      <td>2172.250000</td>\n",
       "    </tr>\n",
       "    <tr>\n",
       "      <th>4</th>\n",
       "      <td>2013-08-24 12:45:00</td>\n",
       "      <td>1377337500</td>\n",
       "      <td>light</td>\n",
       "      <td>668</td>\n",
       "      <td>2228.166667</td>\n",
       "    </tr>\n",
       "    <tr>\n",
       "      <th>5</th>\n",
       "      <td>2013-08-24 15:34:00</td>\n",
       "      <td>1377347640</td>\n",
       "      <td>light</td>\n",
       "      <td>668</td>\n",
       "      <td>2186.083333</td>\n",
       "    </tr>\n",
       "    <tr>\n",
       "      <th>6</th>\n",
       "      <td>2013-08-24 16:23:00</td>\n",
       "      <td>1377350580</td>\n",
       "      <td>light</td>\n",
       "      <td>668</td>\n",
       "      <td>2142.916667</td>\n",
       "    </tr>\n",
       "    <tr>\n",
       "      <th>7</th>\n",
       "      <td>2013-08-24 17:42:00</td>\n",
       "      <td>1377355320</td>\n",
       "      <td>light</td>\n",
       "      <td>668</td>\n",
       "      <td>2224.750000</td>\n",
       "    </tr>\n",
       "    <tr>\n",
       "      <th>8</th>\n",
       "      <td>2013-08-24 19:44:00</td>\n",
       "      <td>1377362640</td>\n",
       "      <td>light</td>\n",
       "      <td>668</td>\n",
       "      <td>2185.916667</td>\n",
       "    </tr>\n",
       "    <tr>\n",
       "      <th>9</th>\n",
       "      <td>2013-08-24 20:57:00</td>\n",
       "      <td>1377367020</td>\n",
       "      <td>light</td>\n",
       "      <td>668</td>\n",
       "      <td>2281.500000</td>\n",
       "    </tr>\n",
       "  </tbody>\n",
       "</table>\n",
       "</div>"
      ],
      "text/plain": [
       "         event_ts_min  ts_min_bignt file_name_type room        value\n",
       "0 2013-08-24 07:23:00    1377318180          light  668  2137.916667\n",
       "1 2013-08-24 07:28:00    1377318480          light  668  2212.416667\n",
       "2 2013-08-24 08:17:00    1377321420          light  668  2135.333333\n",
       "3 2013-08-24 12:11:00    1377335460          light  668  2172.250000\n",
       "4 2013-08-24 12:45:00    1377337500          light  668  2228.166667\n",
       "5 2013-08-24 15:34:00    1377347640          light  668  2186.083333\n",
       "6 2013-08-24 16:23:00    1377350580          light  668  2142.916667\n",
       "7 2013-08-24 17:42:00    1377355320          light  668  2224.750000\n",
       "8 2013-08-24 19:44:00    1377362640          light  668  2185.916667\n",
       "9 2013-08-24 20:57:00    1377367020          light  668  2281.500000"
      ]
     },
     "execution_count": 19,
     "metadata": {},
     "output_type": "execute_result"
    }
   ],
   "source": [
    "df2.limit(10).toPandas()"
   ]
  },
  {
   "cell_type": "code",
   "execution_count": 20,
   "id": "046e473a-81cd-4c02-b327-d131b73e350e",
   "metadata": {
    "tags": []
   },
   "outputs": [
    {
     "name": "stderr",
     "output_type": "stream",
     "text": [
      "                                                                                \r"
     ]
    }
   ],
   "source": [
    "df3 = df2.groupBy('event_ts_min','ts_min_bignt','room').pivot(\"file_name_type\").mean(\"value\")"
   ]
  },
  {
   "cell_type": "code",
   "execution_count": 21,
   "id": "6ee049c2-23e3-46d4-91ed-f8c47d2828b3",
   "metadata": {
    "tags": []
   },
   "outputs": [
    {
     "name": "stderr",
     "output_type": "stream",
     "text": [
      "                                                                                \r"
     ]
    },
    {
     "data": {
      "text/html": [
       "<div>\n",
       "<style scoped>\n",
       "    .dataframe tbody tr th:only-of-type {\n",
       "        vertical-align: middle;\n",
       "    }\n",
       "\n",
       "    .dataframe tbody tr th {\n",
       "        vertical-align: top;\n",
       "    }\n",
       "\n",
       "    .dataframe thead th {\n",
       "        text-align: right;\n",
       "    }\n",
       "</style>\n",
       "<table border=\"1\" class=\"dataframe\">\n",
       "  <thead>\n",
       "    <tr style=\"text-align: right;\">\n",
       "      <th></th>\n",
       "      <th>event_ts_min</th>\n",
       "      <th>ts_min_bignt</th>\n",
       "      <th>room</th>\n",
       "      <th>co2</th>\n",
       "      <th>humidity</th>\n",
       "      <th>light</th>\n",
       "      <th>pir</th>\n",
       "      <th>temperature</th>\n",
       "    </tr>\n",
       "  </thead>\n",
       "  <tbody>\n",
       "    <tr>\n",
       "      <th>0</th>\n",
       "      <td>2013-08-26 12:32:00</td>\n",
       "      <td>1377509520</td>\n",
       "      <td>562</td>\n",
       "      <td>238.083333</td>\n",
       "      <td>61.282499</td>\n",
       "      <td>2.416667</td>\n",
       "      <td>0.0</td>\n",
       "      <td>21.912500</td>\n",
       "    </tr>\n",
       "    <tr>\n",
       "      <th>1</th>\n",
       "      <td>2013-08-30 12:22:00</td>\n",
       "      <td>1377854520</td>\n",
       "      <td>776</td>\n",
       "      <td>518.250000</td>\n",
       "      <td>58.419999</td>\n",
       "      <td>4.400000</td>\n",
       "      <td>0.0</td>\n",
       "      <td>23.419000</td>\n",
       "    </tr>\n",
       "    <tr>\n",
       "      <th>2</th>\n",
       "      <td>2013-08-31 01:12:00</td>\n",
       "      <td>1377900720</td>\n",
       "      <td>722</td>\n",
       "      <td>437.250000</td>\n",
       "      <td>55.070001</td>\n",
       "      <td>4.916667</td>\n",
       "      <td>0.0</td>\n",
       "      <td>23.231666</td>\n",
       "    </tr>\n",
       "    <tr>\n",
       "      <th>3</th>\n",
       "      <td>2013-08-28 08:40:00</td>\n",
       "      <td>1377668400</td>\n",
       "      <td>415</td>\n",
       "      <td>484.250000</td>\n",
       "      <td>57.557501</td>\n",
       "      <td>3.750000</td>\n",
       "      <td>0.0</td>\n",
       "      <td>23.237500</td>\n",
       "    </tr>\n",
       "    <tr>\n",
       "      <th>4</th>\n",
       "      <td>2013-08-28 08:34:00</td>\n",
       "      <td>1377668040</td>\n",
       "      <td>746</td>\n",
       "      <td>514.833333</td>\n",
       "      <td>60.747501</td>\n",
       "      <td>5.000000</td>\n",
       "      <td>0.0</td>\n",
       "      <td>22.293333</td>\n",
       "    </tr>\n",
       "    <tr>\n",
       "      <th>5</th>\n",
       "      <td>2013-08-26 03:10:00</td>\n",
       "      <td>1377475800</td>\n",
       "      <td>562</td>\n",
       "      <td>227.583333</td>\n",
       "      <td>63.600000</td>\n",
       "      <td>3.416667</td>\n",
       "      <td>0.0</td>\n",
       "      <td>22.054166</td>\n",
       "    </tr>\n",
       "    <tr>\n",
       "      <th>6</th>\n",
       "      <td>2013-08-30 20:29:00</td>\n",
       "      <td>1377883740</td>\n",
       "      <td>717</td>\n",
       "      <td>444.000000</td>\n",
       "      <td>61.295000</td>\n",
       "      <td>124.000000</td>\n",
       "      <td>0.0</td>\n",
       "      <td>22.504167</td>\n",
       "    </tr>\n",
       "    <tr>\n",
       "      <th>7</th>\n",
       "      <td>2013-08-26 15:43:00</td>\n",
       "      <td>1377520980</td>\n",
       "      <td>734</td>\n",
       "      <td>291.250000</td>\n",
       "      <td>54.875000</td>\n",
       "      <td>5.583333</td>\n",
       "      <td>0.0</td>\n",
       "      <td>23.279167</td>\n",
       "    </tr>\n",
       "    <tr>\n",
       "      <th>8</th>\n",
       "      <td>2013-08-26 14:18:00</td>\n",
       "      <td>1377515880</td>\n",
       "      <td>562</td>\n",
       "      <td>232.000000</td>\n",
       "      <td>60.862501</td>\n",
       "      <td>2.416667</td>\n",
       "      <td>0.0</td>\n",
       "      <td>21.916667</td>\n",
       "    </tr>\n",
       "    <tr>\n",
       "      <th>9</th>\n",
       "      <td>2013-08-28 10:53:00</td>\n",
       "      <td>1377676380</td>\n",
       "      <td>448</td>\n",
       "      <td>362.500000</td>\n",
       "      <td>57.805001</td>\n",
       "      <td>4.416667</td>\n",
       "      <td>0.0</td>\n",
       "      <td>23.288334</td>\n",
       "    </tr>\n",
       "    <tr>\n",
       "      <th>10</th>\n",
       "      <td>2013-08-29 19:09:00</td>\n",
       "      <td>1377792540</td>\n",
       "      <td>424</td>\n",
       "      <td>398.833333</td>\n",
       "      <td>58.340001</td>\n",
       "      <td>3.500000</td>\n",
       "      <td>0.0</td>\n",
       "      <td>23.516667</td>\n",
       "    </tr>\n",
       "    <tr>\n",
       "      <th>11</th>\n",
       "      <td>2013-08-29 10:58:00</td>\n",
       "      <td>1377763080</td>\n",
       "      <td>415</td>\n",
       "      <td>471.500000</td>\n",
       "      <td>59.827502</td>\n",
       "      <td>17.833333</td>\n",
       "      <td>0.0</td>\n",
       "      <td>23.275834</td>\n",
       "    </tr>\n",
       "    <tr>\n",
       "      <th>12</th>\n",
       "      <td>2013-08-30 23:24:00</td>\n",
       "      <td>1377894240</td>\n",
       "      <td>423</td>\n",
       "      <td>454.500000</td>\n",
       "      <td>59.830002</td>\n",
       "      <td>3.916667</td>\n",
       "      <td>0.0</td>\n",
       "      <td>22.891666</td>\n",
       "    </tr>\n",
       "    <tr>\n",
       "      <th>13</th>\n",
       "      <td>2013-08-25 09:20:00</td>\n",
       "      <td>1377411600</td>\n",
       "      <td>724</td>\n",
       "      <td>182.916667</td>\n",
       "      <td>55.362501</td>\n",
       "      <td>4.833333</td>\n",
       "      <td>0.0</td>\n",
       "      <td>23.397500</td>\n",
       "    </tr>\n",
       "    <tr>\n",
       "      <th>14</th>\n",
       "      <td>2013-08-29 18:57:00</td>\n",
       "      <td>1377791820</td>\n",
       "      <td>452</td>\n",
       "      <td>348.166667</td>\n",
       "      <td>54.225000</td>\n",
       "      <td>2.833333</td>\n",
       "      <td>0.0</td>\n",
       "      <td>22.979166</td>\n",
       "    </tr>\n",
       "    <tr>\n",
       "      <th>15</th>\n",
       "      <td>2013-08-28 01:31:00</td>\n",
       "      <td>1377642660</td>\n",
       "      <td>417</td>\n",
       "      <td>NaN</td>\n",
       "      <td>NaN</td>\n",
       "      <td>NaN</td>\n",
       "      <td>0.0</td>\n",
       "      <td>NaN</td>\n",
       "    </tr>\n",
       "    <tr>\n",
       "      <th>16</th>\n",
       "      <td>2013-08-29 09:24:00</td>\n",
       "      <td>1377757440</td>\n",
       "      <td>752</td>\n",
       "      <td>393.416667</td>\n",
       "      <td>48.941666</td>\n",
       "      <td>4.333333</td>\n",
       "      <td>0.0</td>\n",
       "      <td>26.320000</td>\n",
       "    </tr>\n",
       "    <tr>\n",
       "      <th>17</th>\n",
       "      <td>2013-08-27 17:10:00</td>\n",
       "      <td>1377612600</td>\n",
       "      <td>668</td>\n",
       "      <td>319.250000</td>\n",
       "      <td>58.320000</td>\n",
       "      <td>2137.916667</td>\n",
       "      <td>0.0</td>\n",
       "      <td>21.015834</td>\n",
       "    </tr>\n",
       "    <tr>\n",
       "      <th>18</th>\n",
       "      <td>2013-08-24 10:15:00</td>\n",
       "      <td>1377328500</td>\n",
       "      <td>454</td>\n",
       "      <td>318.583333</td>\n",
       "      <td>51.983333</td>\n",
       "      <td>3.500000</td>\n",
       "      <td>0.0</td>\n",
       "      <td>23.459999</td>\n",
       "    </tr>\n",
       "    <tr>\n",
       "      <th>19</th>\n",
       "      <td>2013-08-29 07:46:00</td>\n",
       "      <td>1377751560</td>\n",
       "      <td>554</td>\n",
       "      <td>485.250000</td>\n",
       "      <td>61.342500</td>\n",
       "      <td>27.416667</td>\n",
       "      <td>0.0</td>\n",
       "      <td>22.871667</td>\n",
       "    </tr>\n",
       "  </tbody>\n",
       "</table>\n",
       "</div>"
      ],
      "text/plain": [
       "          event_ts_min  ts_min_bignt room         co2   humidity        light  \\\n",
       "0  2013-08-26 12:32:00    1377509520  562  238.083333  61.282499     2.416667   \n",
       "1  2013-08-30 12:22:00    1377854520  776  518.250000  58.419999     4.400000   \n",
       "2  2013-08-31 01:12:00    1377900720  722  437.250000  55.070001     4.916667   \n",
       "3  2013-08-28 08:40:00    1377668400  415  484.250000  57.557501     3.750000   \n",
       "4  2013-08-28 08:34:00    1377668040  746  514.833333  60.747501     5.000000   \n",
       "5  2013-08-26 03:10:00    1377475800  562  227.583333  63.600000     3.416667   \n",
       "6  2013-08-30 20:29:00    1377883740  717  444.000000  61.295000   124.000000   \n",
       "7  2013-08-26 15:43:00    1377520980  734  291.250000  54.875000     5.583333   \n",
       "8  2013-08-26 14:18:00    1377515880  562  232.000000  60.862501     2.416667   \n",
       "9  2013-08-28 10:53:00    1377676380  448  362.500000  57.805001     4.416667   \n",
       "10 2013-08-29 19:09:00    1377792540  424  398.833333  58.340001     3.500000   \n",
       "11 2013-08-29 10:58:00    1377763080  415  471.500000  59.827502    17.833333   \n",
       "12 2013-08-30 23:24:00    1377894240  423  454.500000  59.830002     3.916667   \n",
       "13 2013-08-25 09:20:00    1377411600  724  182.916667  55.362501     4.833333   \n",
       "14 2013-08-29 18:57:00    1377791820  452  348.166667  54.225000     2.833333   \n",
       "15 2013-08-28 01:31:00    1377642660  417         NaN        NaN          NaN   \n",
       "16 2013-08-29 09:24:00    1377757440  752  393.416667  48.941666     4.333333   \n",
       "17 2013-08-27 17:10:00    1377612600  668  319.250000  58.320000  2137.916667   \n",
       "18 2013-08-24 10:15:00    1377328500  454  318.583333  51.983333     3.500000   \n",
       "19 2013-08-29 07:46:00    1377751560  554  485.250000  61.342500    27.416667   \n",
       "\n",
       "    pir  temperature  \n",
       "0   0.0    21.912500  \n",
       "1   0.0    23.419000  \n",
       "2   0.0    23.231666  \n",
       "3   0.0    23.237500  \n",
       "4   0.0    22.293333  \n",
       "5   0.0    22.054166  \n",
       "6   0.0    22.504167  \n",
       "7   0.0    23.279167  \n",
       "8   0.0    21.916667  \n",
       "9   0.0    23.288334  \n",
       "10  0.0    23.516667  \n",
       "11  0.0    23.275834  \n",
       "12  0.0    22.891666  \n",
       "13  0.0    23.397500  \n",
       "14  0.0    22.979166  \n",
       "15  0.0          NaN  \n",
       "16  0.0    26.320000  \n",
       "17  0.0    21.015834  \n",
       "18  0.0    23.459999  \n",
       "19  0.0    22.871667  "
      ]
     },
     "execution_count": 21,
     "metadata": {},
     "output_type": "execute_result"
    }
   ],
   "source": [
    "df3.limit(20).toPandas()"
   ]
  },
  {
   "cell_type": "code",
   "execution_count": 22,
   "id": "6009ca52-5786-4a2f-b04c-77fd6c431f9b",
   "metadata": {
    "tags": []
   },
   "outputs": [
    {
     "name": "stderr",
     "output_type": "stream",
     "text": [
      "                                                                                \r"
     ]
    },
    {
     "data": {
      "text/plain": [
       "602667"
      ]
     },
     "execution_count": 22,
     "metadata": {},
     "output_type": "execute_result"
    }
   ],
   "source": [
    "df3.count()"
   ]
  },
  {
   "cell_type": "code",
   "execution_count": 23,
   "id": "6fba88b1-74fd-42cd-ac0c-e5a2cb9d3c9b",
   "metadata": {
    "tags": []
   },
   "outputs": [
    {
     "name": "stderr",
     "output_type": "stream",
     "text": [
      "[Stage 26:=====================================================>(197 + 2) / 200]\r"
     ]
    },
    {
     "name": "stdout",
     "output_type": "stream",
     "text": [
      "+-------------------+------------+----+----+-----------------+------------------+-------+------------------+\n",
      "|       event_ts_min|ts_min_bignt|room| co2|         humidity|             light|    pir|       temperature|\n",
      "+-------------------+------------+----+----+-----------------+------------------+-------+------------------+\n",
      "|2013-08-28 01:31:00|  1377642660| 417|null|             null|              null|    0.0|              null|\n",
      "|2013-09-01 08:58:00|  1378015080| 562|null|             null|              null|    0.0|              null|\n",
      "|2013-09-01 05:44:00|  1378003440| 648|null|             null|              null|    0.0|              null|\n",
      "|2013-09-01 04:25:00|  1377998700| 721|null|             null|              null|    0.0|              null|\n",
      "|2013-09-01 03:13:00|  1377994380| 664|null|             null|              null|    0.0|              null|\n",
      "|2013-09-01 01:50:00|  1377989400| 454|null|             null|              null|    0.0|              null|\n",
      "|2013-08-31 22:35:00|  1377977700| 421|null|             null|              null|    0.0|              null|\n",
      "|2013-08-27 23:40:00|  1377636000| 446|null|             null|              null|    0.0|              null|\n",
      "|2013-09-01 03:50:00|  1377996600| 421|null|             null|              null|    0.0|              null|\n",
      "|2013-09-01 04:23:00|  1377998580| 734|null|             null|              null|29.9375|              null|\n",
      "|2013-09-01 05:51:00|  1378003860| 413|null|             null|              null|    0.0|              null|\n",
      "|2013-09-01 03:35:00|  1377995700|621D|null|             null|              null|    0.0|              null|\n",
      "|2013-08-24 05:19:00|  1377310740| 562|null|54.72999954223633|              2.75|    0.0|22.435833772023518|\n",
      "|2013-09-01 01:44:00|  1377989040| 446|null|             null|              null|    0.0|              null|\n",
      "|2013-09-01 02:32:00|  1377991920| 726|null|             null|              null|    0.0|              null|\n",
      "|2013-09-01 05:51:00|  1378003860| 446|null|             null|              null|    0.0|              null|\n",
      "|2013-08-24 17:57:00|  1377356220| 562|null|57.29750029246012|2.9166666666666665|    0.0|21.663333257039387|\n",
      "|2013-08-28 02:06:00|  1377644760| 510|null|             null|              null|    0.0|              null|\n",
      "|2013-08-24 09:42:00|  1377326520| 562|null|55.88499959309896|2.6666666666666665|    0.0|22.093333562215168|\n",
      "|2013-09-01 06:50:00|  1378007400| 723|null|             null|              null|    0.0|              null|\n",
      "+-------------------+------------+----+----+-----------------+------------------+-------+------------------+\n",
      "only showing top 20 rows\n",
      "\n"
     ]
    },
    {
     "name": "stderr",
     "output_type": "stream",
     "text": [
      "                                                                                \r"
     ]
    }
   ],
   "source": [
    "df3.where(\"co2 is null\").show()"
   ]
  },
  {
   "cell_type": "code",
   "execution_count": 25,
   "id": "10c93f66-2124-41f7-a753-67106572fa28",
   "metadata": {
    "tags": []
   },
   "outputs": [],
   "source": [
    "df_test2 = df3.where(\"ts_min_bignt == '1377299100' and room =='413' \")"
   ]
  },
  {
   "cell_type": "code",
   "execution_count": 26,
   "id": "8f20ec45-166f-4b69-ab01-c24ee1d606a3",
   "metadata": {
    "tags": []
   },
   "outputs": [
    {
     "name": "stderr",
     "output_type": "stream",
     "text": [
      "                                                                                \r"
     ]
    },
    {
     "data": {
      "text/html": [
       "<div>\n",
       "<style scoped>\n",
       "    .dataframe tbody tr th:only-of-type {\n",
       "        vertical-align: middle;\n",
       "    }\n",
       "\n",
       "    .dataframe tbody tr th {\n",
       "        vertical-align: top;\n",
       "    }\n",
       "\n",
       "    .dataframe thead th {\n",
       "        text-align: right;\n",
       "    }\n",
       "</style>\n",
       "<table border=\"1\" class=\"dataframe\">\n",
       "  <thead>\n",
       "    <tr style=\"text-align: right;\">\n",
       "      <th></th>\n",
       "      <th>event_ts_min</th>\n",
       "      <th>ts_min_bignt</th>\n",
       "      <th>room</th>\n",
       "      <th>co2</th>\n",
       "      <th>humidity</th>\n",
       "      <th>light</th>\n",
       "      <th>pir</th>\n",
       "      <th>temperature</th>\n",
       "    </tr>\n",
       "  </thead>\n",
       "  <tbody>\n",
       "    <tr>\n",
       "      <th>0</th>\n",
       "      <td>2013-08-24 02:05:00</td>\n",
       "      <td>1377299100</td>\n",
       "      <td>413</td>\n",
       "      <td>494.727273</td>\n",
       "      <td>45.330001</td>\n",
       "      <td>96.555556</td>\n",
       "      <td>0.0</td>\n",
       "      <td>23.927778</td>\n",
       "    </tr>\n",
       "  </tbody>\n",
       "</table>\n",
       "</div>"
      ],
      "text/plain": [
       "         event_ts_min  ts_min_bignt room         co2   humidity      light  \\\n",
       "0 2013-08-24 02:05:00    1377299100  413  494.727273  45.330001  96.555556   \n",
       "\n",
       "   pir  temperature  \n",
       "0  0.0    23.927778  "
      ]
     },
     "execution_count": 26,
     "metadata": {},
     "output_type": "execute_result"
    }
   ],
   "source": [
    "df_test2.limit(5).toPandas()"
   ]
  },
  {
   "cell_type": "code",
   "execution_count": 27,
   "id": "9e0b7bfe-6812-4e2d-b346-1fb546b26724",
   "metadata": {
    "tags": []
   },
   "outputs": [
    {
     "name": "stdout",
     "output_type": "stream",
     "text": [
      "root\n",
      " |-- event_ts_min: timestamp (nullable = true)\n",
      " |-- ts_min_bignt: long (nullable = true)\n",
      " |-- room: string (nullable = true)\n",
      " |-- co2: double (nullable = true)\n",
      " |-- humidity: double (nullable = true)\n",
      " |-- light: double (nullable = true)\n",
      " |-- pir: double (nullable = true)\n",
      " |-- temperature: double (nullable = true)\n",
      "\n"
     ]
    }
   ],
   "source": [
    "df3.printSchema()"
   ]
  },
  {
   "cell_type": "code",
   "execution_count": 29,
   "id": "4fd05408-913b-4ebd-bb91-5f475f46657f",
   "metadata": {
    "tags": []
   },
   "outputs": [],
   "source": [
    "df4 = df3.select(F.col(\"event_ts_min\"),\n",
    "                 F.col(\"ts_min_bignt\"),\n",
    "                 F.col(\"room\"),\n",
    "                 F.coalesce(F.col(\"co2\"),F.lit(0)).alias(\"co2\"),\n",
    "                 F.coalesce(F.col(\"light\"),F.lit(0)).alias(\"light\"),\n",
    "                 F.coalesce(F.col(\"temperature\"),F.lit(0)).alias(\"temp\"),\n",
    "                 F.coalesce(F.col(\"humidity\"),F.lit(0)).alias(\"humidity\"),\n",
    "                 F.coalesce(F.col(\"pir\"),F.lit(0)).alias(\"pir\")\n",
    "                )"
   ]
  },
  {
   "cell_type": "code",
   "execution_count": 30,
   "id": "39bfe874-fd63-4897-85c8-3c6d90cd3464",
   "metadata": {
    "tags": []
   },
   "outputs": [
    {
     "name": "stdout",
     "output_type": "stream",
     "text": [
      "root\n",
      " |-- event_ts_min: timestamp (nullable = true)\n",
      " |-- ts_min_bignt: long (nullable = true)\n",
      " |-- room: string (nullable = true)\n",
      " |-- co2: double (nullable = false)\n",
      " |-- light: double (nullable = false)\n",
      " |-- temp: double (nullable = false)\n",
      " |-- humidity: double (nullable = false)\n",
      " |-- pir: double (nullable = false)\n",
      "\n"
     ]
    }
   ],
   "source": [
    "df4.printSchema()"
   ]
  },
  {
   "cell_type": "code",
   "execution_count": 31,
   "id": "0c9f7b13-ea47-4d60-9a2f-312ac23c8eb9",
   "metadata": {
    "tags": []
   },
   "outputs": [
    {
     "name": "stderr",
     "output_type": "stream",
     "text": [
      "                                                                                \r"
     ]
    },
    {
     "data": {
      "text/plain": [
       "602667"
      ]
     },
     "execution_count": 31,
     "metadata": {},
     "output_type": "execute_result"
    }
   ],
   "source": [
    "df4.count()"
   ]
  },
  {
   "cell_type": "code",
   "execution_count": 32,
   "id": "ff90e013-cfbb-4767-81b4-874da9d04c46",
   "metadata": {
    "tags": []
   },
   "outputs": [
    {
     "name": "stderr",
     "output_type": "stream",
     "text": [
      "                                                                                \r"
     ]
    },
    {
     "data": {
      "text/html": [
       "<div>\n",
       "<style scoped>\n",
       "    .dataframe tbody tr th:only-of-type {\n",
       "        vertical-align: middle;\n",
       "    }\n",
       "\n",
       "    .dataframe tbody tr th {\n",
       "        vertical-align: top;\n",
       "    }\n",
       "\n",
       "    .dataframe thead th {\n",
       "        text-align: right;\n",
       "    }\n",
       "</style>\n",
       "<table border=\"1\" class=\"dataframe\">\n",
       "  <thead>\n",
       "    <tr style=\"text-align: right;\">\n",
       "      <th></th>\n",
       "      <th>max(event_ts_min)</th>\n",
       "      <th>min(event_ts_min)</th>\n",
       "    </tr>\n",
       "  </thead>\n",
       "  <tbody>\n",
       "    <tr>\n",
       "      <th>0</th>\n",
       "      <td>2013-09-01 09:58:00</td>\n",
       "      <td>2013-08-23 18:00:00</td>\n",
       "    </tr>\n",
       "  </tbody>\n",
       "</table>\n",
       "</div>"
      ],
      "text/plain": [
       "    max(event_ts_min)   min(event_ts_min)\n",
       "0 2013-09-01 09:58:00 2013-08-23 18:00:00"
      ]
     },
     "execution_count": 32,
     "metadata": {},
     "output_type": "execute_result"
    }
   ],
   "source": [
    "df4.selectExpr(\"MAX(event_ts_min)\",\"MIN(event_ts_min)\").limit(5).toPandas()"
   ]
  },
  {
   "cell_type": "code",
   "execution_count": 33,
   "id": "ff1f5d8b-f292-4803-a27a-23298a9c7ce2",
   "metadata": {
    "tags": []
   },
   "outputs": [],
   "source": [
    "df_test3 = df4.where(\"ts_min_bignt == '1377299100' and room == '413' \")"
   ]
  },
  {
   "cell_type": "code",
   "execution_count": 34,
   "id": "ab764011-0448-4c8f-805c-db86d2361956",
   "metadata": {
    "tags": []
   },
   "outputs": [
    {
     "name": "stderr",
     "output_type": "stream",
     "text": [
      "                                                                                \r"
     ]
    },
    {
     "data": {
      "text/html": [
       "<div>\n",
       "<style scoped>\n",
       "    .dataframe tbody tr th:only-of-type {\n",
       "        vertical-align: middle;\n",
       "    }\n",
       "\n",
       "    .dataframe tbody tr th {\n",
       "        vertical-align: top;\n",
       "    }\n",
       "\n",
       "    .dataframe thead th {\n",
       "        text-align: right;\n",
       "    }\n",
       "</style>\n",
       "<table border=\"1\" class=\"dataframe\">\n",
       "  <thead>\n",
       "    <tr style=\"text-align: right;\">\n",
       "      <th></th>\n",
       "      <th>event_ts_min</th>\n",
       "      <th>ts_min_bignt</th>\n",
       "      <th>room</th>\n",
       "      <th>co2</th>\n",
       "      <th>light</th>\n",
       "      <th>temp</th>\n",
       "      <th>humidity</th>\n",
       "      <th>pir</th>\n",
       "    </tr>\n",
       "  </thead>\n",
       "  <tbody>\n",
       "    <tr>\n",
       "      <th>0</th>\n",
       "      <td>2013-08-24 02:05:00</td>\n",
       "      <td>1377299100</td>\n",
       "      <td>413</td>\n",
       "      <td>494.727273</td>\n",
       "      <td>96.555556</td>\n",
       "      <td>23.927778</td>\n",
       "      <td>45.330001</td>\n",
       "      <td>0.0</td>\n",
       "    </tr>\n",
       "  </tbody>\n",
       "</table>\n",
       "</div>"
      ],
      "text/plain": [
       "         event_ts_min  ts_min_bignt room         co2      light       temp  \\\n",
       "0 2013-08-24 02:05:00    1377299100  413  494.727273  96.555556  23.927778   \n",
       "\n",
       "    humidity  pir  \n",
       "0  45.330001  0.0  "
      ]
     },
     "execution_count": 34,
     "metadata": {},
     "output_type": "execute_result"
    }
   ],
   "source": [
    "df_test3.limit(5).toPandas()"
   ]
  },
  {
   "cell_type": "code",
   "execution_count": null,
   "id": "ead14b5c-4717-420a-8a66-29bb7b23d56e",
   "metadata": {
    "tags": []
   },
   "outputs": [
    {
     "name": "stderr",
     "output_type": "stream",
     "text": [
      "[Stage 78:============================>                            (6 + 2) / 12]\r"
     ]
    }
   ],
   "source": [
    "df4.repartition(1).write.csv(\"file:///home/train/project_sensors_output/\",header = True)"
   ]
  },
  {
   "cell_type": "raw",
   "id": "65f43ba3-2094-40e3-b96e-05c6d3388671",
   "metadata": {},
   "source": []
  },
  {
   "cell_type": "raw",
   "id": "21e21821-4199-4519-88cf-b13ae0ae97f2",
   "metadata": {},
   "source": []
  },
  {
   "cell_type": "code",
   "execution_count": null,
   "id": "ae293f2c-b975-4156-a215-c3b85cb00a11",
   "metadata": {},
   "outputs": [],
   "source": []
  }
 ],
 "metadata": {
  "kernelspec": {
   "display_name": "venvspark",
   "language": "python",
   "name": "venvspark"
  },
  "language_info": {
   "codemirror_mode": {
    "name": "ipython",
    "version": 3
   },
   "file_extension": ".py",
   "mimetype": "text/x-python",
   "name": "python",
   "nbconvert_exporter": "python",
   "pygments_lexer": "ipython3",
   "version": "3.8.12"
  }
 },
 "nbformat": 4,
 "nbformat_minor": 5
}
